{
 "cells": [
  {
   "cell_type": "markdown",
   "metadata": {},
   "source": [
    "# Chem 30324, Spring 2019, Homework 10\n"
   ]
  },
  {
   "cell_type": "markdown",
   "metadata": {},
   "source": [
    "# Due May 3, 2019"
   ]
  },
  {
   "cell_type": "markdown",
   "metadata": {},
   "source": [
    "## Equilibrium constants from first principles.\n",
    "### In 1996, Schneider and co-workers used quantum chemistry to compute the reaction pathway for unimolecular decomposition of trifluoromethanol, a reaction of relevance to the atmospheric degradation of hydrofluorocarbon refrigerants (*J. Phys. Chem.* **1996**, *100*, 6097- 6103, [doi:10.1021/jp952703m](https://pubs.acs.org/doi/abs/10.1021/jp952703m)): $$\\mathrm{CF_3OH\\rightarrow COF_2 + HF}$$\n",
    "### Following are some of the reported results, computed at 298 K:"
   ]
  },
  {
   "cell_type": "markdown",
   "metadata": {},
   "source": [
    "![](https://raw.githubusercontent.com/yixiaohou1/P-Chem/master/6.png)"
   ]
  },
  {
   "cell_type": "markdown",
   "metadata": {},
   "source": [
    "### 1. Using the data provided, determine $\\Delta U^{\\circ}$(298 K), in kJ mol$^{-1}$, assuming ideal behavior and 1 M standard state.  Recall that $U(T)$ is the sum of the contributions of all degrees of freedom.  "
   ]
  },
  {
   "cell_type": "markdown",
   "metadata": {},
   "source": [
    "Remember that $E_0$ is contained in $\\Delta{U}^{\\circ},\\Delta{A}^{\\circ},and \\Delta{G}^{\\circ}.$ For example:\n",
    "\n",
    "$$\\Delta U^{\\circ} =\\sum_{product}U_{trans} + U_{rot} + U_{vib} + (E_{elec} + ZPE) - \\sum_{reactant} U_{trans} + U_{rot} + U_{vib} + (E_{elec} + ZPE)$$\n",
    "\n",
    "$$=\\sum_{product}U_{trans} + U_{rot} + U_{vib} + E_0 - \\sum_{reactant} U_{trans} + U_{rot} + U_{vib} + E_0$$\n",
    "\n",
    "$\\Delta U^{\\circ} =\\Delta(U_{trans} + U_{rot} + U_{vib}) + \\Delta(E_0)$"
   ]
  },
  {
   "cell_type": "code",
   "execution_count": 51,
   "metadata": {},
   "outputs": [
    {
     "name": "stdout",
     "output_type": "stream",
     "text": [
      "delta_U = 18.64 kJ/mol\n"
     ]
    }
   ],
   "source": [
    "import numpy as np\n",
    "T = 298 # K\n",
    "k = 1.38065e-23 # J/K\n",
    "R = 8.31447 # J/(mol*K)\n",
    "Na = 6.0221e23  # 1/mol\n",
    "c = 6.0221e26  # 1/m^3, conversion factor of 1mol/L = 6.02e26 particles/m^3\n",
    "autokJ = 2625.50\n",
    "\n",
    "Eelec = [-412.90047 ,-312.57028 ,-100.31885 ] # kJ/mol\n",
    "ZPE = [0.02889 ,0.01422 ,0.00925 ] # kJ/mol\n",
    "dE0 = ((Eelec[1] + ZPE[1] + Eelec[2] + ZPE[2]) - (Eelec[0] + ZPE[0]))* autokJ # kJ/mol\n",
    "u_trans = [3.7,3.7,3.7] #kJ/mol\n",
    "u_rot = [3.7,3.7,2.5] #kJ/mol\n",
    "u_vib = [4.3,1.2,0] #kJ/mol\n",
    "dU = dE0 + (u_trans[1]+u_rot[1]+u_vib[1])+(u_trans[2]+u_rot[2]+u_vib[2])-(u_trans[0]+u_rot[0]+u_vib[0])#kJ/mol\n",
    "print(\"delta_U = %.2f kJ/mol\"%dU)"
   ]
  },
  {
   "cell_type": "markdown",
   "metadata": {},
   "source": [
    "### 2. Using the data provided, determine  $\\Delta A^{\\circ}$(298 K) in kJ mol$^{-1}$, assuming ideal behavior and 1 M standard state.  Recall that $A^\\circ=E^\\text{elec} + \\text{ZPE}-RT\\ln(q^\\circ)-RT$ and that $q^\\circ =(q^\\text{trans}/V)q^\\text{rot}q^\\text{vib}/c^\\circ$ in units corresponding with the standard state."
   ]
  },
  {
   "cell_type": "markdown",
   "metadata": {},
   "source": [
    "$\\Delta{A^{\\circ}}= \\big\\{[-k_BT\\ln(q_{t}q_{r}q_{v})-k_BT]_{COF_2}+[-k_BT\\ln(q_{t}q_{r}q_{v})-k_BT]_{HF}-[-k_BT\\ln(q_{t}q_{r}q_{v})-k_BT]_{CF_3OH}\\big\\} *N_A + \\Delta(E_0)$\n",
    "\n",
    "$\\quad \\quad = \\Delta(E_0)-RT\\ln(Q)-RT$"
   ]
  },
  {
   "cell_type": "code",
   "execution_count": 65,
   "metadata": {},
   "outputs": [
    {
     "name": "stdout",
     "output_type": "stream",
     "text": [
      "(1551.097763657244, 15.542960000008549)\n",
      "delta_A = -5.14 kJ/mol\n"
     ]
    }
   ],
   "source": [
    "q_trans = [7.72e32/c,1.59e32/c,8.65e31/c] # change translational partition functions from 1/m3 to mol/l std state\n",
    "q_rot = [61830,679,9.59] # unitless\n",
    "q_vib = [2.33,1.16,1] # unitless    \n",
    "Q = (q_trans[1]*q_rot[1]*q_vib[1])*(q_trans[2]*q_rot[2]*q_vib[2])/(q_trans[0]*q_rot[0]*q_vib[0]) # total partition \n",
    "dA = dE0 + (-R*T*np.log(Q)- R*T)/1000 #kJ/mol\n",
    "print(Q,dE0)\n",
    "print(\"delta_A = %.2f kJ/mol\"%dA)"
   ]
  },
  {
   "cell_type": "markdown",
   "metadata": {},
   "source": [
    "### 3. Determine $\\Delta G^\\circ(\\text{298 K})$.  Recall that $G = A + PV = A + RT$ for an ideal ga."
   ]
  },
  {
   "cell_type": "markdown",
   "metadata": {},
   "source": [
    "$\\Delta{G^{\\circ}} = \\Delta{A^{\\circ}} + \\Delta(PV)$\n",
    "\n",
    "$\\quad = \\Delta{A^{\\circ}} + RT$"
   ]
  },
  {
   "cell_type": "code",
   "execution_count": 54,
   "metadata": {},
   "outputs": [
    {
     "name": "stdout",
     "output_type": "stream",
     "text": [
      "delta_G = -2.66 kJ/mol\n"
     ]
    }
   ],
   "source": [
    "dG = dA + R*T/1000 #kJ/mol\n",
    "print(\"delta_G = %.2f kJ/mol\"%dG)"
   ]
  },
  {
   "cell_type": "markdown",
   "metadata": {},
   "source": [
    "### 4. Determine $\\Delta S^{\\circ}$(298 K), in J mol$^{-1}$ K $^{-1}$ , assuming a 1 M standard state. Recall that $S = (U - A)/T$."
   ]
  },
  {
   "cell_type": "markdown",
   "metadata": {},
   "source": [
    "$\\Delta A^{\\circ} = \\Delta U^{\\circ} - T\\Delta S^{\\circ}$\n",
    "\n",
    "$\\Delta S^{\\circ} = \\frac{\\Delta U^{\\circ} - \\Delta A^{\\circ}}{T}$"
   ]
  },
  {
   "cell_type": "code",
   "execution_count": 55,
   "metadata": {},
   "outputs": [
    {
     "name": "stdout",
     "output_type": "stream",
     "text": [
      "delta_S = 79.80 J/mol K\n"
     ]
    }
   ],
   "source": [
    "dS = 1000*(dU - dA)/T\n",
    "print(\"delta_S = %.2f J/mol K\"%dS)"
   ]
  },
  {
   "cell_type": "markdown",
   "metadata": {},
   "source": [
    "### 5. Using the data provided, determine $K_c$ (298 K), assuming a 1 M standard state.  You may either determine from partition functions or from the relationship between $K_c$ and $\\Delta G^\\circ$."
   ]
  },
  {
   "cell_type": "markdown",
   "metadata": {},
   "source": [
    "$\\mathrm{A} \\rightarrow \\mathrm{B + C}$\n",
    "\n",
    "\n",
    "$$K_c(T) = \\frac{\\frac{q_{\\mathrm{B}}}{V}\\frac{q_{\\mathrm{C}}}{V}}{\\frac{q_{\\mathrm{A}}}{V}} \\frac{1}{c^{\\circ}} e^{-\\Delta{E(0)}/kT} = e^{-\\Delta G^\\circ(T)/RT}, \\quad \\text{where} \\quad \\frac{q_i}{V} = \\frac{q_{trans}}{V}q_{rot}q_{vib}$$\n",
    "\n",
    "Note: $K_c(T)$ is formally unitless but \"remembers\" that it refers to 1 M standard state."
   ]
  },
  {
   "cell_type": "code",
   "execution_count": 69,
   "metadata": {},
   "outputs": [
    {
     "name": "stdout",
     "output_type": "stream",
     "text": [
      "Kc = 2.926 (unitless). \n"
     ]
    }
   ],
   "source": [
    "Kc = Q *np.exp(-dE0*1000/(R*T)) # Kc equation from lecture notes\n",
    "print('Kc = %.3f (unitless). '%(Kc))"
   ]
  },
  {
   "cell_type": "code",
   "execution_count": 72,
   "metadata": {},
   "outputs": [
    {
     "name": "stdout",
     "output_type": "stream",
     "text": [
      "Kc = 2.926 (unitless). \n"
     ]
    }
   ],
   "source": [
    "Kc = np.exp(-dG*1000/(R*T))\n",
    "print('Kc = %.3f (unitless). '%(Kc))"
   ]
  },
  {
   "cell_type": "markdown",
   "metadata": {},
   "source": [
    "### 6. 1 mole of CF$_3$OH is generated in a 20 L vessel at 298 K and left long enough to come to equilibrium with respect to its decomposition reaction. What is the composition of the gas (concentrations of all the components) at equilibrium (in mol/L)?"
   ]
  },
  {
   "cell_type": "markdown",
   "metadata": {},
   "source": [
    "1 mol/ 20 L = 0.05 mol/L\n",
    "\n",
    "$\\mathrm{A} \\rightarrow \\mathrm{B + C}$\n",
    "\n",
    "|Reaction|A (mol/L)|B (mol/L)|C (mol/L)|\n",
    "|-|-|-|-|\n",
    "|I|0.05|0|0|\n",
    "|C|-x|x|x|\n",
    "|E|0.05-x|x|x|\n",
    "\n",
    "$K_c = \\frac{x^2}{0.05-x}$, solve for x.    Note that x = $[\\frac{mol}{L}]$."
   ]
  },
  {
   "cell_type": "code",
   "execution_count": 73,
   "metadata": {},
   "outputs": [
    {
     "name": "stdout",
     "output_type": "stream",
     "text": [
      "At equilibrium, CF3OH = 8.26E-04 mol/L, COF2 = 0.04917 mol/L, HF = 0.04917 mol/L.\n"
     ]
    }
   ],
   "source": [
    "from sympy import * \n",
    "x = symbols('x',positive=True)\n",
    "c = solve(x**2-(0.05-x)*Kc,x)\n",
    "print('At equilibrium, CF3OH = %.2E mol/L, COF2 = %.5f mol/L, HF = %.5f mol/L.'%(0.05-c[0],c[0],c[0]))"
   ]
  },
  {
   "cell_type": "markdown",
   "metadata": {},
   "source": [
    "### 7. How, directionally, would your answer to Question 4 change if the vessel was at a higher temperature? Why, in statistical mechanical terms?"
   ]
  },
  {
   "cell_type": "markdown",
   "metadata": {},
   "source": [
    "Since enthalpy is positive & the reaction is endothermic, the equilibrium will tend towards the products as temperature increases. \n",
    "\n",
    "In stat mech perspective, high energy states become more probable with increasing temperature, so molecules will more likely ended up as product. (Product is higher in energy in this reaction)."
   ]
  },
  {
   "cell_type": "markdown",
   "metadata": {},
   "source": [
    "### 8. How, directionally, would your answer to Question 4 change if the vessel had a volume of 5 L? Why, in statistical mechanical terms?"
   ]
  },
  {
   "cell_type": "markdown",
   "metadata": {},
   "source": [
    "When volume shrinks from 20L to 5L, the equilibrium will tend towards the reactant, which has lesser molecules. (though equilibrium constant stays the same, i.e. Kc is not a function of V). \n",
    "\n",
    "In stat mech perspective, number of available translational states is proportional to volume. Smaller volume lessen the number of available states, therefore favors the side that has lesser molecules (i.e. reactant)."
   ]
  },
  {
   "cell_type": "markdown",
   "metadata": {},
   "source": [
    "## Chemical kinetics from first principles.\n",
    "### While chemical equilibrium describes what can happen, chemical kinetics determines what *will* happen. The same paper reports results for the transition state for the unimolecular decomposition reaction, also shown in the table above."
   ]
  },
  {
   "cell_type": "markdown",
   "metadata": {},
   "source": [
    "### 9. Provide a rough sketch of what you expect the transition state to look like."
   ]
  },
  {
   "cell_type": "markdown",
   "metadata": {},
   "source": [
    "<img src=\"https://raw.githubusercontent.com/yixiaohou1/P-Chem/master/5.jpg\" width=\"200\" height=\"200\" />\n",
    "\n",
    "Structure of $\\mathrm{[CF_3OH]^⧧}$ according to the literature (Schneider, W. F., Wallington, T. J., & Huie, R. E. (1996). Energetics and mechanism of decomposition of CF3OH. *The Journal of Physical Chemistry, 100*(15), 6097-6103.). The third F is not showing.\n",
    "\n",
    "(Other answers will be accepted if make sense)"
   ]
  },
  {
   "cell_type": "markdown",
   "metadata": {},
   "source": [
    "### 10. Based on the data in the table, sketch out an approximate potential energy surface for the unimolecular decomposition reaction. Indicate on the PES the location of the reactants, the products, and the transition state. Also indicate relevant zero point energies, the 0 K reaction energy, and the activation energy."
   ]
  },
  {
   "cell_type": "markdown",
   "metadata": {},
   "source": [
    "<img src=\"https://raw.githubusercontent.com/yixiaohou1/P-Chem/master/7.jpg\" width=\"600\" height=\"600\" />"
   ]
  },
  {
   "cell_type": "markdown",
   "metadata": {
    "collapsed": true
   },
   "source": [
    "### 11. Using data from the table and harmonic transition state theory, compute the  first-order rate constant for CF$_3$OH decomposition at 298 K, in s$^{-1}$."
   ]
  },
  {
   "cell_type": "markdown",
   "metadata": {},
   "source": [
    "$k = \\frac{k_{\\mathrm{B}}T}{h}\\frac{q^⧧}{q_\\mathrm{A}}\\mathrm{e}^{-\\Delta{E^⧧(0)}/k_{\\mathrm{B}}T}$"
   ]
  },
  {
   "cell_type": "code",
   "execution_count": 26,
   "metadata": {},
   "outputs": [
    {
     "name": "stdout",
     "output_type": "stream",
     "text": [
      "First-order rate constant for CF3OH decompostion at 298 K is 1.380650E-23 s^-1.\n"
     ]
    }
   ],
   "source": [
    "import numpy as np\n",
    "\n",
    "kB=8.61734e-5 # eV/K\n",
    "T1=298 # K\n",
    "h=4.136e-15 # eV*s\n",
    "q_TS= 7.72e32*68420*2.28 # 1/m^3, q(trans)*q(rot)*q(vib)\n",
    "q_A=7.72e32*61830*2.33 # 1/m^3, q(trans)*q(rot)*q(vib)\n",
    "delta_E= ((-412.82771+0.02313)-(-412.90047+0.02889))*27.212 # eV\n",
    "k2=kB*T1/h*q_TS/q_A*np.exp(-delta_E/kB/T1)\n",
    "print(\"First-order rate constant for CF3OH decompostion at 298 K is %E s^-1.\"%k)"
   ]
  },
  {
   "cell_type": "markdown",
   "metadata": {},
   "source": [
    "### 12. Which factor in your rate constant dominates the temperature dependence? Estimate the change in temperature necessary to double the rate constant."
   ]
  },
  {
   "cell_type": "markdown",
   "metadata": {},
   "source": [
    "The dominating factor would be the temperature in the exponential denominator."
   ]
  },
  {
   "cell_type": "code",
   "execution_count": 22,
   "metadata": {},
   "outputs": [
    {
     "name": "stdout",
     "output_type": "stream",
     "text": [
      "Temperature changing from 298.000000 K to 300.896633 K will make the rate constant double\n"
     ]
    }
   ],
   "source": [
    "from scipy.optimize import fsolve\n",
    "\n",
    "T2 = 298  # K\n",
    "k2 = kB*T2/h*q_TS/q_A*np.exp(-delta_E/kB/T2)\n",
    "func = lambda T : kB*T/h*q_TS/q_A*np.exp(-delta_E/kB/T)-2*k2\n",
    "T3 = fsolve(func,298)\n",
    "print(\"Temperature changing from %f K to %f K will make the rate constant double\"%(T2, T3))"
   ]
  },
  {
   "cell_type": "markdown",
   "metadata": {},
   "source": [
    "### 13. Based on your computed rate constant, what is the half-life of the CF$_3$OH in the vessel of Question 4?"
   ]
  },
  {
   "cell_type": "markdown",
   "metadata": {},
   "source": [
    "The half-life of a first-order reaction under a given set of reaction conditions is a constant.\n",
    "\n",
    "$t_{1/2} = \\frac{\\mathrm{ln}2}{k}$"
   ]
  },
  {
   "cell_type": "code",
   "execution_count": 24,
   "metadata": {},
   "outputs": [
    {
     "name": "stdout",
     "output_type": "stream",
     "text": [
      "The half-life is 7.035080E+17 s, which is about 2.230809E+10 years.\n"
     ]
    }
   ],
   "source": [
    "t=np.log(2)/k2 # s\n",
    "print('The half-life is %E s, which is about %E years.'%(t,t/3600/24/365))"
   ]
  },
  {
   "cell_type": "markdown",
   "metadata": {},
   "source": [
    "### 14. Experiments reveal that the CF$_3$OH comes to equilibrium far faster than the unimolecular rate would suggest. Provide a possible explanation for this observation (other than that Schneider calculations are incorrect!)."
   ]
  },
  {
   "cell_type": "markdown",
   "metadata": {},
   "source": [
    "The reaction must proceed by some other pathway.  One possibility advanced in the paper is participation of H$_2$O in the decomposition.\n",
    "\n",
    "<img src=\"https://raw.githubusercontent.com/yixiaohou1/P-Chem/master/8.gif\" width=\"400\">"
   ]
  }
 ],
 "metadata": {
  "anaconda-cloud": {},
  "kernelspec": {
   "display_name": "Python 2",
   "language": "python",
   "name": "python2"
  },
  "language_info": {
   "codemirror_mode": {
    "name": "ipython",
    "version": 2
   },
   "file_extension": ".py",
   "mimetype": "text/x-python",
   "name": "python",
   "nbconvert_exporter": "python",
   "pygments_lexer": "ipython2",
   "version": "2.7.15"
  }
 },
 "nbformat": 4,
 "nbformat_minor": 1
}
